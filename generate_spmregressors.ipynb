{
 "cells": [
  {
   "cell_type": "raw",
   "metadata": {
    "slideshow": {
     "slide_type": "slide"
    }
   },
   "source": [
    "importing python modules"
   ]
  },
  {
   "cell_type": "code",
   "execution_count": 8,
   "metadata": {
    "slideshow": {
     "slide_type": "fragment"
    }
   },
   "outputs": [],
   "source": [
    "import os\n",
    "from glob import glob\n",
    "import pandas as pd\n",
    "import numpy as np\n",
    "from io import StringIO\n",
    "import scipy.io as io\n",
    "from csv import reader\n",
    "import linecache\n"
   ]
  },
  {
   "cell_type": "raw",
   "metadata": {
    "slideshow": {
     "slide_type": "slide"
    }
   },
   "source": [
    "Paths to Data:"
   ]
  },
  {
   "cell_type": "code",
   "execution_count": null,
   "metadata": {
    "slideshow": {
     "slide_type": "fragment"
    }
   },
   "outputs": [],
   "source": [
    "data_dir='/Users/cdla/Repository/menon/mds/stim_timing_files/'\n",
    "os.mkdir(os.path.join(data_dir,'spm_onset_mask_files'))\n",
    "os.mkdir(os.path.join(data_dir,'spm_onset_thresh_files'))"
   ]
  },
  {
   "cell_type": "markdown",
   "metadata": {
    "slideshow": {
     "slide_type": "slide"
    }
   },
   "source": [
    "onset creation for mask runs"
   ]
  },
  {
   "cell_type": "code",
   "execution_count": 10,
   "metadata": {
    "slideshow": {
     "slide_type": "fragment"
    }
   },
   "outputs": [],
   "source": [
    "for subj in sorted([os.path.basename(x) for x in glob(os.path.join(data_dir,'TES*'))]):\n",
    "    subjid=subj.replace('TES','0')\n",
    "    data=pd.DataFrame()\n",
    "    f = open(os.path.join(data_dir,subj,'cond_clearhit.1D'))\n",
    "    for idx in range(1,sum(1 for row in f)+1):\n",
    "        run_mat=dict()\n",
    "        run_mat['sess_name']=[]\n",
    "        run_mat['rest_exists']=1\n",
    "        run_mat['sess_name'].append('mask%d'%idx)\n",
    "        durations=[]\n",
    "        run_onsets=[]\n",
    "        names=[]\n",
    "        for stim_file in sorted(glob(os.path.join(data_dir,subj,'cond*.csv'))):\n",
    "            onsets=linecache.getline(stim_file,idx)\n",
    "            onsets=onsets.split(',')\n",
    "            onsets[-1]=onsets[-1][:-1]\n",
    "            try:\n",
    "                onsets=[float(onset) for onset in onsets]\n",
    "            except: \n",
    "                onsets=[float(0)]\n",
    "            durations.append(np.zeros(len(onsets),dtype=float))\n",
    "            run_onsets.append(onsets)\n",
    "            names.append(os.path.basename(stim_file).replace('.csv',''))\n",
    "        run_mat['durations']=np.array(durations,dtype=object)\n",
    "        run_mat['onsets']=np.array(run_onsets,dtype=object)\n",
    "        run_mat['names']=np.array(names,dtype=object)\n",
    "        io.savemat(os.path.join(data_dir,'spm_onset_mask_files',subjid+'_mask'+str(idx+1)+'.mat'),run_mat)"
   ]
  },
  {
   "cell_type": "markdown",
   "metadata": {
    "slideshow": {
     "slide_type": "slide"
    }
   },
   "source": [
    "onset creation for thresh run"
   ]
  },
  {
   "cell_type": "code",
   "execution_count": 11,
   "metadata": {
    "slideshow": {
     "slide_type": "fragment"
    }
   },
   "outputs": [],
   "source": [
    "for subj in sorted([os.path.basename(x) for x in glob(os.path.join(data_dir,'TES*'))]):\n",
    "    if subj=='TES010':\n",
    "        continue\n",
    "    else:\n",
    "        subjid=subj.replace('TES','0')\n",
    "        data=pd.DataFrame()\n",
    "        idx=1\n",
    "        run_mat=dict()\n",
    "        durations=[]\n",
    "        run_onsets=[]\n",
    "        names=[]\n",
    "        run_mat['sess_name']=[]\n",
    "        run_mat['rest_exists']=1\n",
    "        run_mat['sess_name'].append('thresh1')        \n",
    "        for stim_file in sorted(glob(os.path.join(data_dir,subj,'thresh*.csv'))):\n",
    "            onsets=linecache.getline(stim_file,idx)\n",
    "            onsets=onsets.split(',')\n",
    "            onsets[-1]=onsets[-1][:-1]\n",
    "            onsets=[float(onset) for onset in onsets]\n",
    "            durations.append(np.zeros(len(onsets),dtype=float))\n",
    "            run_onsets.append(onsets)\n",
    "            names.append(os.path.basename(stim_file).replace('.csv',''))\n",
    "        run_mat['durations']=np.array(durations,dtype=object)\n",
    "        run_mat['onsets']=np.array(run_onsets,dtype=object)\n",
    "        run_mat['names']=np.array(names,dtype=object)\n",
    "        io.savemat(os.path.join(data_dir,'spm_onset_thresh_files',subjid+'_thresh1.mat'),run_mat)"
   ]
  },
  {
   "cell_type": "markdown",
   "metadata": {
    "slideshow": {
     "slide_type": "slide"
    }
   },
   "source": [
    "loading up an onset file to see structure"
   ]
  },
  {
   "cell_type": "code",
   "execution_count": 13,
   "metadata": {
    "slideshow": {
     "slide_type": "fragment"
    }
   },
   "outputs": [
    {
     "name": "stdout",
     "output_type": "stream",
     "text": [
      "{'__header__': b'MATLAB 5.0 MAT-file Platform: posix, Created on: Thu Mar 21 09:29:30 2019', '__version__': '1.0', '__globals__': [], 'sess_name': array(['thresh1'], dtype='<U7'), 'rest_exists': array([[1]]), 'durations': array([[array([[0., 0., 0., 0., 0., 0., 0., 0., 0., 0., 0., 0., 0., 0., 0.]]),\n",
      "        array([[0., 0., 0., 0., 0., 0., 0., 0., 0., 0., 0., 0., 0.]]),\n",
      "        array([[0., 0., 0., 0., 0., 0., 0., 0., 0., 0., 0., 0., 0., 0., 0., 0.]]),\n",
      "        array([[0., 0., 0., 0., 0., 0., 0., 0., 0., 0., 0., 0., 0.]]),\n",
      "        array([[0., 0., 0., 0., 0., 0., 0., 0.]]), array([[0., 0., 0.]])]],\n",
      "      dtype=object), 'onsets': array([[array([[ 79.1, 119.5, 134. , 139.4, 150.4, 170.7, 181.7, 218.6, 223.4,\n",
      "        239.1, 261.2, 270.9, 275.6, 322.5, 333.4]]),\n",
      "        array([[ 38.3,  43.7,  53.7,  94.2,  98.9, 108.8, 129.3, 191.9, 208. ,\n",
      "        255.7, 290.7, 301. , 317.5]]),\n",
      "        array([[ 64. ,  83.9,  89.5, 104.2, 124.4, 155.9, 160.8, 186.6, 197.3,\n",
      "        202.5, 249.8, 285.4, 295.4, 312.2, 339.1, 349.5]]),\n",
      "        array([[ 58.7,  73.6, 114.2, 165.7, 176.4, 213.6, 228.9, 234.3, 244.5,\n",
      "        280.6, 306.6, 327.9, 344.4]]),\n",
      "        array([[ 0.8,  6.5, 11.3, 16.6, 22. , 27.5, 32.8, 49. ]]),\n",
      "        array([[ 68.7, 145. , 266.1]])]], dtype=object), 'names': array([[array(['thresh_clearhit'], dtype='<U15'),\n",
      "        array(['thresh_clearmiss'], dtype='<U16'),\n",
      "        array(['thresh_nearhit'], dtype='<U14'),\n",
      "        array(['thresh_nearmiss'], dtype='<U15'),\n",
      "        array(['thresh_nr'], dtype='<U9'),\n",
      "        array(['thresh_sham'], dtype='<U11')]], dtype=object)}\n"
     ]
    }
   ],
   "source": [
    "test=io.loadmat(os.path.join(data_dir,'spm_onset_thresh_files','0002_thresh1.mat'))\n",
    "print(test)"
   ]
  }
 ],
 "metadata": {
  "celltoolbar": "Slideshow",
  "kernelspec": {
   "display_name": "Python 2",
   "language": "python",
   "name": "python2"
  },
  "language_info": {
   "codemirror_mode": {
    "name": "ipython",
    "version": 3
   },
   "file_extension": ".py",
   "mimetype": "text/x-python",
   "name": "python",
   "nbconvert_exporter": "python",
   "pygments_lexer": "ipython3",
   "version": "3.7.2"
  }
 },
 "nbformat": 4,
 "nbformat_minor": 2
}
